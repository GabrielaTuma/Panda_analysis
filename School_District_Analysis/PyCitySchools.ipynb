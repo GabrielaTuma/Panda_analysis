{
 "cells": [
  {
   "cell_type": "code",
   "execution_count": 31,
   "id": "cac30f62",
   "metadata": {
    "scrolled": true
   },
   "outputs": [
    {
     "name": "stderr",
     "output_type": "stream",
     "text": [
      "/Users/gabrielatuma/opt/anaconda3/envs/PythonData/lib/python3.7/site-packages/ipykernel_launcher.py:18: FutureWarning: The default value of regex will change from True to False in a future version.\n"
     ]
    }
   ],
   "source": [
    "# USING PANDAS AND CREATING DATA FRAMES\n",
    "\n",
    "# Need pandas to read data in csv files \n",
    "import pandas as pd\n",
    "\n",
    "# Get files to load from correct location\n",
    "school_data_to_load = \"Resources/schools_complete.csv\"\n",
    "student_data_to_load = \"Resources/students_complete.csv\"\n",
    "\n",
    "# Read files with panda -> Pandas DataFrame (df)\n",
    "school_data_df = pd.read_csv(school_data_to_load)\n",
    "#school_data_df\n",
    "student_data_df = pd.read_csv(student_data_to_load)\n",
    "#student_data_df.head()\n",
    "\n",
    "# Fix incorrect names on the data frame\n",
    "prefixes_suffixes = [\"Dr. \", \"Mr. \",\"Ms. \", \"Mrs. \", \"Miss \", \" MD\", \" DDS\", \" DVM\", \" PhD\"]\n",
    "\n",
    "for wrong in prefixes_suffixes:\n",
    "    student_data_df[\"student_name\"] = student_data_df[\"student_name\"].str.replace(wrong, \"\")\n",
    "\n",
    "# Combine the data into a single dataset.\n",
    "complete_df = pd.merge(student_data_df, school_data_df, on=[\"school_name\", \"school_name\"])\n"
   ]
  },
  {
   "cell_type": "code",
   "execution_count": 51,
   "id": "ee86bb96",
   "metadata": {},
   "outputs": [],
   "source": [
    "# INFORMATION ABOUT THE DATA ANALYZED \n",
    "\n",
    "# Find the number of students = 39170\n",
    "student_count = complete_df[\"Student ID\"].count()\n",
    "#student_count\n",
    "\n",
    "# And schools = 15\n",
    "school_count = len(complete_df[\"school_name\"].unique())\n",
    "\n",
    "# And the budget = 82932329558 > wrong, should count each school once\n",
    "#total_budget = complete_df[\"budget\"].sum()\n",
    "#total_budget\n",
    "\n",
    "# The budget = 24649428\n",
    "total_budget = school_data_df[\"budget\"].sum()\n",
    "#total_budget\n",
    "\n",
    "# Average reading score = 81.87784018381414\n",
    "avg_reading_score = complete_df[\"reading_score\"].mean()\n",
    "#avg_reading_score\n",
    "\n",
    "# Average math score = 78.98537145774827\n",
    "avg_math_score = complete_df[\"math_score\"].mean()\n",
    "#avg_math_score"
   ]
  },
  {
   "cell_type": "code",
   "execution_count": 47,
   "id": "c9d7a6d7",
   "metadata": {},
   "outputs": [
    {
     "name": "stdout",
     "output_type": "stream",
     "text": [
      "65.17232575950983\n"
     ]
    }
   ],
   "source": [
    "# PASSING PERCENTAGES\n",
    "\n",
    "# 1 - Determine the passing grade. (Will olny give true or false response)\n",
    "passing_reading = complete_df[\"reading_score\"] >= 70\n",
    "passing_math = complete_df[\"math_score\"] >= 70\n",
    "\n",
    "# 2 - Get the number of students who passed math and reading in separate DataFrames.\n",
    "passing_reading = complete_df[complete_df[\"reading_score\"] >= 70]\n",
    "passing_math = complete_df[complete_df[\"math_score\"] >= 70]\n",
    "\n",
    "# 3 - Calculate the number of students who passed math and reading.\n",
    "passing_reading_count = passing_reading[\"Student ID\"].count()\n",
    "passing_math_count = passing_math[\"Student ID\"].count()\n",
    "\n",
    "# 4 - Calculate the percentage of students who passed math and reading.\n",
    "reading_percentage = (passing_reading_count / student_count) *100\n",
    "math_percentage = (passing_math_count / student_count) *100\n",
    "\n",
    "# 5 - Get the number of students who passed both math and reading in a DataFrame.\n",
    "passing_both = complete_df[(complete_df[\"reading_score\"] >= 70) & (complete_df[\"math_score\"] >= 70)]\n",
    "\n",
    "# 6 - Calculate the number of students who passed both math and reading.\n",
    "passing_student_count = passing_both[\"Student ID\"].count()\n",
    "\n",
    "# 7 - Calculate the percentage of students who passed both math and reading.\n",
    "both_percentage = (passing_student_count / student_count) *100"
   ]
  },
  {
   "cell_type": "code",
   "execution_count": 95,
   "id": "e8ee7b3c",
   "metadata": {},
   "outputs": [
    {
     "data": {
      "text/html": [
       "<div>\n",
       "<style scoped>\n",
       "    .dataframe tbody tr th:only-of-type {\n",
       "        vertical-align: middle;\n",
       "    }\n",
       "\n",
       "    .dataframe tbody tr th {\n",
       "        vertical-align: top;\n",
       "    }\n",
       "\n",
       "    .dataframe thead th {\n",
       "        text-align: right;\n",
       "    }\n",
       "</style>\n",
       "<table border=\"1\" class=\"dataframe\">\n",
       "  <thead>\n",
       "    <tr style=\"text-align: right;\">\n",
       "      <th></th>\n",
       "      <th>Total Schools</th>\n",
       "      <th>Total Students</th>\n",
       "      <th>Total Budget</th>\n",
       "      <th>Average Math Score</th>\n",
       "      <th>Average Reading Score</th>\n",
       "      <th>% Passing Math</th>\n",
       "      <th>% Passing Reading</th>\n",
       "      <th>% Overall Passing</th>\n",
       "    </tr>\n",
       "  </thead>\n",
       "  <tbody>\n",
       "    <tr>\n",
       "      <th>0</th>\n",
       "      <td>15</td>\n",
       "      <td>39,170</td>\n",
       "      <td>$24,649,428.00</td>\n",
       "      <td>79.0</td>\n",
       "      <td>81.9</td>\n",
       "      <td>75</td>\n",
       "      <td>86</td>\n",
       "      <td>65</td>\n",
       "    </tr>\n",
       "  </tbody>\n",
       "</table>\n",
       "</div>"
      ],
      "text/plain": [
       "   Total Schools Total Students    Total Budget Average Math Score  \\\n",
       "0             15         39,170  $24,649,428.00               79.0   \n",
       "\n",
       "  Average Reading Score % Passing Math % Passing Reading % Overall Passing  \n",
       "0                  81.9             75                86                65  "
      ]
     },
     "execution_count": 95,
     "metadata": {},
     "output_type": "execute_result"
    }
   ],
   "source": [
    "# DISTRICT SUMMARY\n",
    "\n",
    "# Adding a list of values with keys to create a new DataFrame.\n",
    "district_summary_df = pd.DataFrame(\n",
    "          [{\"Total Schools\": school_count,\n",
    "          \"Total Students\": student_count,\n",
    "          \"Total Budget\": total_budget,\n",
    "          \"Average Math Score\": avg_math_score,\n",
    "          \"Average Reading Score\": avg_reading_score,\n",
    "          \"% Passing Math\": math_percentage,\n",
    "         \"% Passing Reading\": reading_percentage,\n",
    "        \"% Overall Passing\": both_percentage}])\n",
    "\n",
    "# FORMATING THE RESULTS\n",
    "district_summary_df[\"Total Students\"] = district_summary_df[\"Total Students\"].map(\"{:,}\".format)\n",
    "district_summary_df[\"Total Budget\"] = district_summary_df[\"Total Budget\"].map(\"${:,.2f}\".format)\n",
    "district_summary_df[\"Average Math Score\"] = district_summary_df[\"Average Math Score\"].map(\"{:,.1f}\".format)\n",
    "district_summary_df[\"Average Reading Score\"] = district_summary_df[\"Average Reading Score\"].map(\"{:,.1f}\".format)\n",
    "district_summary_df[\"% Passing Math\"] = district_summary_df[\"% Passing Math\"].map(\"{:,.0f}\".format)\n",
    "district_summary_df[\"% Passing Reading\"] = district_summary_df[\"% Passing Reading\"].map(\"{:,.0f}\".format)\n",
    "district_summary_df[\"% Overall Passing\"] = district_summary_df[\"% Overall Passing\"].map(\"{:,.0f}\".format)\n",
    "\n",
    "district_summary_df"
   ]
  },
  {
   "cell_type": "code",
   "execution_count": null,
   "id": "badefcca",
   "metadata": {},
   "outputs": [],
   "source": []
  },
  {
   "cell_type": "code",
   "execution_count": null,
   "id": "82200c9f",
   "metadata": {},
   "outputs": [],
   "source": []
  },
  {
   "cell_type": "code",
   "execution_count": null,
   "id": "877459b5",
   "metadata": {},
   "outputs": [],
   "source": []
  }
 ],
 "metadata": {
  "kernelspec": {
   "display_name": "PythonData",
   "language": "python",
   "name": "pythondata"
  },
  "language_info": {
   "codemirror_mode": {
    "name": "ipython",
    "version": 3
   },
   "file_extension": ".py",
   "mimetype": "text/x-python",
   "name": "python",
   "nbconvert_exporter": "python",
   "pygments_lexer": "ipython3",
   "version": "3.7.10"
  }
 },
 "nbformat": 4,
 "nbformat_minor": 5
}
