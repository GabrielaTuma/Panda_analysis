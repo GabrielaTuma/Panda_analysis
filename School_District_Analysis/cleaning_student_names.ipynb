{
 "cells": [
  {
   "cell_type": "code",
   "execution_count": 27,
   "metadata": {},
   "outputs": [
    {
     "name": "stderr",
     "output_type": "stream",
     "text": [
      "/Users/gabrielatuma/opt/anaconda3/envs/PythonData/lib/python3.7/site-packages/ipykernel_launcher.py:56: FutureWarning: The default value of regex will change from True to False in a future version.\n"
     ]
    },
    {
     "data": {
      "text/plain": [
       "School ID       int64\n",
       "school_name    object\n",
       "type           object\n",
       "size            int64\n",
       "budget          int64\n",
       "dtype: object"
      ]
     },
     "execution_count": 27,
     "metadata": {},
     "output_type": "execute_result"
    }
   ],
   "source": [
    "import pandas as pd \n",
    "\n",
    "student_data_to_load = \"Resources/students_complete.csv\"\n",
    "school_data_to_load = \"Resources/schools_complete.csv\"\n",
    "\n",
    "student_data_df = pd.read_csv(student_data_to_load)\n",
    "school_data_df = pd.read_csv(school_data_to_load)\n",
    "\n",
    "# student_data_df.head()\n",
    "\n",
    "# Put the student names in a list.\n",
    "student_names = student_data_df[\"student_name\"].tolist()\n",
    "\n",
    "\n",
    "# Split the student name and determine the length of the split name.\n",
    "# for name in student_names:\n",
    "#    print (name.split(), len(name.split()))\n",
    "\n",
    "    \n",
    "# Define list of incorrect names that need to be fixed \n",
    "incorrect_names = []\n",
    "\n",
    "# If the name is greater than or equal to \"3\", add the name to the list\n",
    "for name in student_names:\n",
    "    if len(name.split()) >= 3:\n",
    "        incorrect_names.append(name)\n",
    "        \n",
    "#len(incorrect_names)        \n",
    "        \n",
    "# Find names with prefixes with 4 or less characters \n",
    "prefixes = []\n",
    "\n",
    "for name in incorrect_names:\n",
    "    if len(name.split()[0]) <= 4:\n",
    "        prefixes.append(name.split()[0])\n",
    "        \n",
    "suffixes = []\n",
    "\n",
    "for name in incorrect_names:\n",
    "    if len(name.split()[-1]) <= 4:\n",
    "        suffixes.append(name.split()[-1])\n",
    "        \n",
    "# Get the unique items in the \"prefixes\" list\n",
    "#set(prefixes)\n",
    "#set(suffixes)\n",
    "\n",
    "# With the set() method we can find the prefixes and suffixes that will be removed \n",
    "# For prefixes: Dr. Miss Mr. Mrs. \n",
    "# For suffixes: MD DDS DVM Ph.D\n",
    "    \n",
    "# Create a list of incorrect names \n",
    "prefixes_suffixes = [\"Dr. \", \"Mr. \",\"Ms. \", \"Mrs. \", \"Miss \", \" MD\", \" DDS\", \" DVM\", \" PhD\"]\n",
    "\n",
    "# The replace method can only be used with strings in python \n",
    "for wrong in prefixes_suffixes:\n",
    "    student_data_df[\"student_name\"] = student_data_df[\"student_name\"].str.replace(wrong, \"\")\n",
    "\n",
    "correct_names = []\n",
    "\n",
    "# Student names list needs to be redefined \n",
    "student_names = student_data_df[\"student_name\"].tolist()\n",
    "\n",
    "for name in student_names:\n",
    "    if len(name.split()) >= 3:\n",
    "        correct_names.append(name)\n",
    "        \n",
    "#print(correct_names)    \n",
    "\n",
    "\n",
    "\n",
    "# Determine if there are any null values (table with true or false values)\n",
    "#school_data_df.isnull()\n",
    "\n",
    "# Determine if there are any missing values in the student data.\n",
    "#student_data_df.count()\n",
    "#student_data_df.isnull().sum()\n",
    "\n",
    "# Determine data types \n",
    "school_data_df.dtypes\n"
   ]
  },
  {
   "cell_type": "code",
   "execution_count": null,
   "metadata": {},
   "outputs": [],
   "source": []
  },
  {
   "cell_type": "code",
   "execution_count": null,
   "metadata": {},
   "outputs": [],
   "source": []
  }
 ],
 "metadata": {
  "kernelspec": {
   "display_name": "Python 3",
   "language": "python",
   "name": "python3"
  },
  "language_info": {
   "codemirror_mode": {
    "name": "ipython",
    "version": 3
   },
   "file_extension": ".py",
   "mimetype": "text/x-python",
   "name": "python",
   "nbconvert_exporter": "python",
   "pygments_lexer": "ipython3",
   "version": "3.7.10"
  }
 },
 "nbformat": 4,
 "nbformat_minor": 2
}
